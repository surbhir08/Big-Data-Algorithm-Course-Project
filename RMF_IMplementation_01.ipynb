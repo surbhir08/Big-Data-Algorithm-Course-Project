{
 "cells": [
  {
   "cell_type": "code",
   "execution_count": 1,
   "id": "91875031",
   "metadata": {},
   "outputs": [
    {
     "data": {
      "text/html": [
       "\n",
       "            <div>\n",
       "                <p><b>SparkSession - hive</b></p>\n",
       "                \n",
       "        <div>\n",
       "            <p><b>SparkContext</b></p>\n",
       "\n",
       "            <p><a href=\"http://10.0.2.15:4040\">Spark UI</a></p>\n",
       "\n",
       "            <dl>\n",
       "              <dt>Version</dt>\n",
       "                <dd><code>v3.2.0</code></dd>\n",
       "              <dt>Master</dt>\n",
       "                <dd><code>local[*]</code></dd>\n",
       "              <dt>AppName</dt>\n",
       "                <dd><code>PySparkShell</code></dd>\n",
       "            </dl>\n",
       "        </div>\n",
       "        \n",
       "            </div>\n",
       "        "
      ],
      "text/plain": [
       "<pyspark.sql.session.SparkSession at 0x7f231da0e4c0>"
      ]
     },
     "execution_count": 1,
     "metadata": {},
     "output_type": "execute_result"
    }
   ],
   "source": [
    "import numpy as np\n",
    "import pandas as pd\n",
    "import matplotlib.pyplot as plt\n",
    "%matplotlib inline\n",
    "\n",
    "import pyspark\n",
    "from pyspark.sql import SparkSession\n",
    "\n",
    "spark = SparkSession.builder.appName(\"PySpark\").getOrCreate()\n",
    "spark\n"
   ]
  },
  {
   "cell_type": "code",
   "execution_count": 2,
   "id": "0fe59ce3",
   "metadata": {},
   "outputs": [],
   "source": [
    "import pyspark.sql.functions as F\n",
    "from pyspark.sql.types import *\n",
    "from pyspark.sql import Window\n"
   ]
  },
  {
   "cell_type": "code",
   "execution_count": 3,
   "id": "de35de9b",
   "metadata": {},
   "outputs": [],
   "source": [
    "def printdf(df, l=5):\n",
    "    return df.limit(l).toPandas()\n",
    "\n",
    "def nullcount(df):\n",
    "    return {col: df.filter(df[col].isNull()).count() for col in df.columns}\n",
    "\n",
    "def shape(df):\n",
    "    # df.toPandas().shape\n",
    "    print((df.count(), len(df.columns)))"
   ]
  },
  {
   "cell_type": "code",
   "execution_count": 4,
   "id": "190eef97",
   "metadata": {},
   "outputs": [],
   "source": [
    "data = spark.read.csv(\"2019-Oct.csv\", \n",
    "                      inferSchema=True, \n",
    "                      header=True)\n",
    "\n",
    "#print('Dataframe dimensions:', (data.count(), len(data.columns)))\n",
    "#printdf(data)"
   ]
  },
  {
   "cell_type": "code",
   "execution_count": 5,
   "id": "f44d3426",
   "metadata": {},
   "outputs": [
    {
     "data": {
      "text/plain": [
       "['event_time',\n",
       " 'event_type',\n",
       " 'product_id',\n",
       " 'category_id',\n",
       " 'category_code',\n",
       " 'brand',\n",
       " 'price',\n",
       " 'user_id',\n",
       " 'user_session']"
      ]
     },
     "execution_count": 5,
     "metadata": {},
     "output_type": "execute_result"
    }
   ],
   "source": [
    "data.columns"
   ]
  },
  {
   "cell_type": "code",
   "execution_count": 6,
   "id": "dcd00eee",
   "metadata": {},
   "outputs": [
    {
     "name": "stdout",
     "output_type": "stream",
     "text": [
      "+--------------------+----------------+----------+-------------------+-------------+--------+-----+---------+--------------------+----------+\n",
      "|          event_time|      event_type|product_id|        category_id|category_code|   brand|price|  user_id|        user_session| date_type|\n",
      "+--------------------+----------------+----------+-------------------+-------------+--------+-----+---------+--------------------+----------+\n",
      "|2019-10-01 00:00:...|            cart|   5773203|1487580005134238553|         null|  runail| 2.62|463240011|26dd6e6e-4dac-477...|2019-10-01|\n",
      "|2019-10-01 00:00:...|            cart|   5773353|1487580005134238553|         null|  runail| 2.62|463240011|26dd6e6e-4dac-477...|2019-10-01|\n",
      "|2019-10-01 00:00:...|            cart|   5881589|2151191071051219817|         null|  lovely|13.48|429681830|49e8d843-adf3-428...|2019-10-01|\n",
      "|2019-10-01 00:00:...|            cart|   5723490|1487580005134238553|         null|  runail| 2.62|463240011|26dd6e6e-4dac-477...|2019-10-01|\n",
      "|2019-10-01 00:00:...|            cart|   5881449|1487580013522845895|         null|  lovely| 0.56|429681830|49e8d843-adf3-428...|2019-10-01|\n",
      "|2019-10-01 00:00:...|            cart|   5857269|1487580005134238553|         null|  runail| 2.62|430174032|73dea1e7-664e-43f...|2019-10-01|\n",
      "|2019-10-01 00:00:...|            cart|   5739055|1487580008246412266|         null|  kapous| 4.75|377667011|81326ac6-daa4-4f0...|2019-10-01|\n",
      "|2019-10-01 00:00:...|            cart|   5825598|1487580009445982239|         null|    null| 0.56|467916806|2f5b5546-b8cb-9ee...|2019-10-01|\n",
      "|2019-10-01 00:00:...|            cart|   5698989|1487580006317032337|         null|    null| 1.27|385985999|d30965e8-1101-44a...|2019-10-01|\n",
      "|2019-10-01 00:00:...|            view|   5875317|2029082628195353599|         null|    null| 1.59|474232307|445f2b74-5e4c-427...|2019-10-01|\n",
      "|2019-10-01 00:00:...|            view|   5692917|1487580004857414477|         null| lianail| 5.54|555446068|4257671a-efc8-4e5...|2019-10-01|\n",
      "|2019-10-01 00:00:...|remove_from_cart|   5834172|1487580013522845895|         null|  runail| 0.95|429681830|49e8d843-adf3-428...|2019-10-01|\n",
      "|2019-10-01 00:00:...|remove_from_cart|   5809103|1487580013522845895|         null|   irisk|  0.6|429681830|49e8d843-adf3-428...|2019-10-01|\n",
      "|2019-10-01 00:00:...|remove_from_cart|   5809103|1487580013522845895|         null|   irisk|  0.6|429681830|49e8d843-adf3-428...|2019-10-01|\n",
      "|2019-10-01 00:00:...|remove_from_cart|   5779403|1487580013506068678|         null|    null|12.22|429681830|49e8d843-adf3-428...|2019-10-01|\n",
      "|2019-10-01 00:00:...|remove_from_cart|   5779403|1487580013506068678|         null|    null|12.22|429681830|49e8d843-adf3-428...|2019-10-01|\n",
      "|2019-10-01 00:00:...|            cart|   5670337|1752742615205281895|         null|    null| 2.38|546705258|3b5c65c0-bb1c-453...|2019-10-01|\n",
      "|2019-10-01 00:00:...|            cart|   5836522|1487580013522845895|         null|nagaraku|  0.4|429681830|49e8d843-adf3-428...|2019-10-01|\n",
      "|2019-10-01 00:00:...|            cart|   5836522|1487580013522845895|         null|nagaraku|  0.4|429681830|49e8d843-adf3-428...|2019-10-01|\n",
      "|2019-10-01 00:00:...|            view|   5819638|1487580008162526182|         null|    null|21.75|546705258|3b5c65c0-bb1c-453...|2019-10-01|\n",
      "+--------------------+----------------+----------+-------------------+-------------+--------+-----+---------+--------------------+----------+\n",
      "only showing top 20 rows\n",
      "\n"
     ]
    }
   ],
   "source": [
    "new_data = data.withColumn(\"date_type\",F.to_date(\"event_time\"))\n",
    "new_data.show()"
   ]
  },
  {
   "cell_type": "code",
   "execution_count": 7,
   "id": "e85f5920",
   "metadata": {},
   "outputs": [
    {
     "data": {
      "text/plain": [
       "10"
      ]
     },
     "execution_count": 7,
     "metadata": {},
     "output_type": "execute_result"
    }
   ],
   "source": [
    "len(new_data.columns)"
   ]
  },
  {
   "cell_type": "code",
   "execution_count": 8,
   "id": "8575440f",
   "metadata": {},
   "outputs": [
    {
     "data": {
      "text/plain": [
       "{'event_time': 0,\n",
       " 'event_type': 0,\n",
       " 'product_id': 0,\n",
       " 'category_id': 0,\n",
       " 'category_code': 4034806,\n",
       " 'brand': 1659261,\n",
       " 'price': 0,\n",
       " 'user_id': 0,\n",
       " 'user_session': 637,\n",
       " 'date_type': 0}"
      ]
     },
     "execution_count": 8,
     "metadata": {},
     "output_type": "execute_result"
    }
   ],
   "source": [
    "nullcount(new_data)"
   ]
  },
  {
   "cell_type": "code",
   "execution_count": 9,
   "id": "1056f783",
   "metadata": {},
   "outputs": [
    {
     "name": "stdout",
     "output_type": "stream",
     "text": [
      "+----------------+-------+-------+------------------+\n",
      "|      event_type|  Count|  Total|                 %|\n",
      "+----------------+-------+-------+------------------+\n",
      "|            view|1862164|4102283|45.393357796134495|\n",
      "|            cart|1232385|4102283|30.041442777107285|\n",
      "|remove_from_cart| 762110|4102283|18.577704171067673|\n",
      "|        purchase| 245624|4102283| 5.987495255690551|\n",
      "+----------------+-------+-------+------------------+\n",
      "\n"
     ]
    }
   ],
   "source": [
    "\n",
    "rtl_data = new_data\\\n",
    "    .groupBy(\"event_type\")\\\n",
    "    .agg(F.count(\"user_id\").alias(\"Count\"))\\\n",
    "    .withColumn('Total', F.sum('Count').over(Window.partitionBy()))\\\n",
    "    .withColumn('%', (F.col('Count')/F.col('Total'))*100)\\\n",
    "    .sort(\"Count\", ascending=False)\n",
    "\n",
    "rtl_data.show()\n"
   ]
  },
  {
   "cell_type": "code",
   "execution_count": 10,
   "id": "a0a149d5",
   "metadata": {},
   "outputs": [
    {
     "name": "stdout",
     "output_type": "stream",
     "text": [
      "+-------------------------------------------------------------------------+\n",
      "|count(DISTINCT user_id, user_session, event_type, event_time, product_id)|\n",
      "+-------------------------------------------------------------------------+\n",
      "|                                                                  3888554|\n",
      "+-------------------------------------------------------------------------+\n",
      "\n"
     ]
    }
   ],
   "source": [
    "#data.count()\n",
    "#len(data.columns)\n",
    "new_data.select(F.countDistinct(\"user_id\",\"user_session\",\"event_type\",\"event_time\",\"product_id\")).show()"
   ]
  },
  {
   "cell_type": "code",
   "execution_count": 11,
   "id": "78066869",
   "metadata": {},
   "outputs": [
    {
     "name": "stdout",
     "output_type": "stream",
     "text": [
      "+--------------------+----------------+----------+-------------------+--------------------+---------+-----+---------+--------------------+----------+\n",
      "|          event_time|      event_type|product_id|        category_id|       category_code|    brand|price|  user_id|        user_session| date_type|\n",
      "+--------------------+----------------+----------+-------------------+--------------------+---------+-----+---------+--------------------+----------+\n",
      "|2019-10-01 00:00:...|            cart|   5773203|1487580005134238553|                null|   runail| 2.62|463240011|26dd6e6e-4dac-477...|2019-10-01|\n",
      "|2019-10-01 00:00:...|            cart|   5773353|1487580005134238553|                null|   runail| 2.62|463240011|26dd6e6e-4dac-477...|2019-10-01|\n",
      "|2019-10-01 00:00:...|            cart|   5881589|2151191071051219817|                null|   lovely|13.48|429681830|49e8d843-adf3-428...|2019-10-01|\n",
      "|2019-10-01 00:00:...|            cart|   5723490|1487580005134238553|                null|   runail| 2.62|463240011|26dd6e6e-4dac-477...|2019-10-01|\n",
      "|2019-10-01 00:00:...|            cart|   5881449|1487580013522845895|                null|   lovely| 0.56|429681830|49e8d843-adf3-428...|2019-10-01|\n",
      "|2019-10-01 00:00:...|            cart|   5857269|1487580005134238553|                null|   runail| 2.62|430174032|73dea1e7-664e-43f...|2019-10-01|\n",
      "|2019-10-01 00:00:...|            cart|   5739055|1487580008246412266|                null|   kapous| 4.75|377667011|81326ac6-daa4-4f0...|2019-10-01|\n",
      "|2019-10-01 00:00:...|            view|   5692917|1487580004857414477|                null|  lianail| 5.54|555446068|4257671a-efc8-4e5...|2019-10-01|\n",
      "|2019-10-01 00:00:...|remove_from_cart|   5834172|1487580013522845895|                null|   runail| 0.95|429681830|49e8d843-adf3-428...|2019-10-01|\n",
      "|2019-10-01 00:00:...|remove_from_cart|   5809103|1487580013522845895|                null|    irisk|  0.6|429681830|49e8d843-adf3-428...|2019-10-01|\n",
      "|2019-10-01 00:00:...|remove_from_cart|   5809103|1487580013522845895|                null|    irisk|  0.6|429681830|49e8d843-adf3-428...|2019-10-01|\n",
      "|2019-10-01 00:00:...|            cart|   5836522|1487580013522845895|                null| nagaraku|  0.4|429681830|49e8d843-adf3-428...|2019-10-01|\n",
      "|2019-10-01 00:00:...|            cart|   5836522|1487580013522845895|                null| nagaraku|  0.4|429681830|49e8d843-adf3-428...|2019-10-01|\n",
      "|2019-10-01 00:00:...|            cart|   5859414|1487580005671109489|                null|   masura| 2.37|555442940|618f3d7d-2939-47e...|2019-10-01|\n",
      "|2019-10-01 00:00:...|            view|   5856191|1487580006350586771|appliances.enviro...|   runail|24.44|507355498|944c7e9b-40bd-411...|2019-10-01|\n",
      "|2019-10-01 00:00:...|            cart|   5859413|1487580005671109489|                null|   masura| 2.37|555442940|618f3d7d-2939-47e...|2019-10-01|\n",
      "|2019-10-01 00:00:...|remove_from_cart|   5881589|2151191071051219817|                null|   lovely|13.48|429681830|49e8d843-adf3-428...|2019-10-01|\n",
      "|2019-10-01 00:01:...|            cart|   5723518|1487580005134238553|                null|   runail| 2.62|430174032|c2bbd970-a5ad-42d...|2019-10-01|\n",
      "|2019-10-01 00:01:...|remove_from_cart|   5848908|1487580007675986893|                null|bpw.style|  1.9|429681830|49e8d843-adf3-428...|2019-10-01|\n",
      "|2019-10-01 00:01:...|            cart|   5677366|1487580008246412266|                null|    estel|  7.3|524009100|8bbff347-0be1-470...|2019-10-01|\n",
      "+--------------------+----------------+----------+-------------------+--------------------+---------+-----+---------+--------------------+----------+\n",
      "only showing top 20 rows\n",
      "\n"
     ]
    }
   ],
   "source": [
    "\n",
    "\n",
    "# Filter out null customer ids\n",
    "\n",
    "rtl_data = new_data.filter(F.col(\"user_session\").isNotNull())\n",
    "rtl_data = new_data.filter(F.col(\"category_code\").isNotNull())\n",
    "rtl_data = new_data.filter(F.col(\"brand\").isNotNull())\n",
    "\n",
    "rtl_data.show()\n",
    "# rtl_data.toPandas().describe()"
   ]
  },
  {
   "cell_type": "code",
   "execution_count": 12,
   "id": "60577644",
   "metadata": {},
   "outputs": [
    {
     "data": {
      "text/plain": [
       "{'event_time': 0,\n",
       " 'event_type': 0,\n",
       " 'product_id': 0,\n",
       " 'category_id': 0,\n",
       " 'category_code': 2394337,\n",
       " 'brand': 0,\n",
       " 'price': 0,\n",
       " 'user_id': 0,\n",
       " 'user_session': 424,\n",
       " 'date_type': 0}"
      ]
     },
     "execution_count": 12,
     "metadata": {},
     "output_type": "execute_result"
    }
   ],
   "source": [
    "nullcount(rtl_data)"
   ]
  },
  {
   "cell_type": "code",
   "execution_count": 13,
   "id": "ea02a1f8",
   "metadata": {},
   "outputs": [
    {
     "data": {
      "text/plain": [
       "[Row(max(date_type)=datetime.date(2019, 10, 31))]"
      ]
     },
     "execution_count": 13,
     "metadata": {},
     "output_type": "execute_result"
    }
   ],
   "source": [
    "rtl_data.select(F.max('date_type')).collect()"
   ]
  },
  {
   "cell_type": "code",
   "execution_count": 14,
   "id": "182f771a",
   "metadata": {},
   "outputs": [
    {
     "name": "stdout",
     "output_type": "stream",
     "text": [
      "+--------+-------+---------+------------------+\n",
      "| user_id|Recency|Frequency|          Monetary|\n",
      "+--------+-------+---------+------------------+\n",
      "| 4103071|     11|        5|             16.57|\n",
      "| 8846226|     30|       32|            140.19|\n",
      "| 9794320|      9|       19|16.359999999999996|\n",
      "|10280338|      5|       79| 418.7999999999998|\n",
      "|12055855|     16|        2|              6.46|\n",
      "|13383118|     20|        1|              8.89|\n",
      "|13392135|      5|        2|              9.83|\n",
      "|14297993|     10|       11|147.17000000000002|\n",
      "|16263196|      8|        2|              96.5|\n",
      "|20554973|      7|       74| 351.2100000000001|\n",
      "|22050296|      9|        2|45.879999999999995|\n",
      "|23668204|     21|        1|              3.76|\n",
      "|23843972|     26|        3|              6.33|\n",
      "|25302217|     22|        2|              1.12|\n",
      "|25893719|     29|       15|49.959999999999994|\n",
      "|26690649|     13|        5|             80.15|\n",
      "|26795186|     23|        2|             19.04|\n",
      "|26964783|      7|        1|              7.14|\n",
      "|27085410|     26|        2|               5.4|\n",
      "|27872944|      6|        3|             10.11|\n",
      "+--------+-------+---------+------------------+\n",
      "only showing top 20 rows\n",
      "\n"
     ]
    }
   ],
   "source": [
    "# Recency   = Overall latest invoice date - individual customer's last invoice date\n",
    "# Frequency = count of invoice no. of transaction(s)\n",
    "# Monetary = Sum of Total amount for each customer\n",
    "\n",
    "# to calculate recency in days.\n",
    "latest_date = F.to_date(F.lit(\"2019-11-01\"), 'yyyy-MM-dd')\n",
    "\n",
    "# Create RFM Modelling scores for each customer\n",
    "\n",
    "\n",
    "rfm_scores = (rtl_data.groupBy(\"user_id\")\n",
    "              .agg((F.datediff(latest_date, F.max(F.col(\"date_type\")))).alias(\"Recency\"),\n",
    "                   F.count(\"*\").alias(\"Frequency\"),\n",
    "                   F.sum(F.col(\"price\")).alias(\"Monetary\")).sort(\"user_id\"))\n",
    "\n",
    "\n",
    "\n",
    "rfm_scores.show()"
   ]
  },
  {
   "cell_type": "code",
   "execution_count": 15,
   "id": "0003d429",
   "metadata": {},
   "outputs": [
    {
     "name": "stdout",
     "output_type": "stream",
     "text": [
      "+-------+--------------------+------------------+------------------+------------------+\n",
      "|summary|             user_id|           Recency|         Frequency|          Monetary|\n",
      "+-------+--------------------+------------------+------------------+------------------+\n",
      "|  count|              285460|            285460|            285460|            285460|\n",
      "|   mean|5.2606660292191553E8|16.314608001120998| 8.558193792475302| 78.95023589991192|\n",
      "| stddev| 6.632501508238726E7|  9.41055013666885|28.147795732899606|253.51984993536047|\n",
      "|    min|             4103071|                 1|                 1|               0.0|\n",
      "|    max|           566280278|                31|              2403|22205.659999999843|\n",
      "+-------+--------------------+------------------+------------------+------------------+\n",
      "\n"
     ]
    }
   ],
   "source": [
    "rfm_scores.describe().show()"
   ]
  },
  {
   "cell_type": "code",
   "execution_count": null,
   "id": "bc57d88f",
   "metadata": {},
   "outputs": [],
   "source": []
  },
  {
   "cell_type": "code",
   "execution_count": null,
   "id": "ea19cb47",
   "metadata": {},
   "outputs": [],
   "source": []
  }
 ],
 "metadata": {
  "kernelspec": {
   "display_name": "Python 3",
   "language": "python",
   "name": "python3"
  },
  "language_info": {
   "codemirror_mode": {
    "name": "ipython",
    "version": 3
   },
   "file_extension": ".py",
   "mimetype": "text/x-python",
   "name": "python",
   "nbconvert_exporter": "python",
   "pygments_lexer": "ipython3",
   "version": "3.8.8"
  }
 },
 "nbformat": 4,
 "nbformat_minor": 5
}
